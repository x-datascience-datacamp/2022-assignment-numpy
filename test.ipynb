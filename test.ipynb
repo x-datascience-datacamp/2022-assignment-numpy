{
 "cells": [
  {
   "cell_type": "code",
   "execution_count": 1,
   "metadata": {},
   "outputs": [],
   "source": [
    "import numpy as np"
   ]
  },
  {
   "cell_type": "code",
   "execution_count": 16,
   "metadata": {},
   "outputs": [
    {
     "data": {
      "text/plain": [
       "array([[[0.40136392, 0.0707662 , 0.4828412 , 0.695509  ],\n",
       "        [0.83785791, 0.01156184, 0.93048188, 0.58063012],\n",
       "        [0.96498062, 0.55936859, 0.33492849, 0.20316308],\n",
       "        [0.4460103 , 0.38788323, 0.02822946, 0.85237162]],\n",
       "\n",
       "       [[0.04187836, 0.91990663, 0.89052384, 0.62763512],\n",
       "        [0.34284428, 0.89935484, 0.65205448, 0.68855643],\n",
       "        [0.33169433, 0.32084796, 0.73536554, 0.85581129],\n",
       "        [0.49443908, 0.96455051, 0.53132569, 0.46636292]],\n",
       "\n",
       "       [[0.97854184, 0.91561363, 0.2636145 , 0.2303942 ],\n",
       "        [0.7405771 , 0.36281399, 0.53158621, 0.14740245],\n",
       "        [0.17324495, 0.13809612, 0.62895527, 0.14349298],\n",
       "        [0.51627479, 0.95625449, 0.26004963, 0.52183398]],\n",
       "\n",
       "       [[0.16195775, 0.24161154, 0.38900664, 0.29614303],\n",
       "        [0.94130744, 0.57997033, 0.72852335, 0.98474932],\n",
       "        [0.78704498, 0.38972079, 0.93206039, 0.15564325],\n",
       "        [0.85267037, 0.26596238, 0.19092884, 0.67651394]]])"
      ]
     },
     "execution_count": 16,
     "metadata": {},
     "output_type": "execute_result"
    }
   ],
   "source": [
    "x = np.random.rand(4, 4, 4)\n",
    "x"
   ]
  },
  {
   "cell_type": "code",
   "execution_count": 18,
   "metadata": {},
   "outputs": [
    {
     "data": {
      "text/plain": [
       "3"
      ]
     },
     "execution_count": 18,
     "metadata": {},
     "output_type": "execute_result"
    }
   ],
   "source": [
    "len(x.shape)"
   ]
  },
  {
   "cell_type": "code",
   "execution_count": 14,
   "metadata": {},
   "outputs": [
    {
     "data": {
      "text/plain": [
       "False"
      ]
     },
     "execution_count": 14,
     "metadata": {},
     "output_type": "execute_result"
    }
   ],
   "source": [
    "ind = np.unravel_index(np.argmax(x, axis=None), x.shape)\n",
    "ind == (1, 0)"
   ]
  },
  {
   "cell_type": "code",
   "execution_count": null,
   "metadata": {},
   "outputs": [],
   "source": []
  }
 ],
 "metadata": {
  "kernelspec": {
   "display_name": "base",
   "language": "python",
   "name": "python3"
  },
  "language_info": {
   "codemirror_mode": {
    "name": "ipython",
    "version": 3
   },
   "file_extension": ".py",
   "mimetype": "text/x-python",
   "name": "python",
   "nbconvert_exporter": "python",
   "pygments_lexer": "ipython3",
   "version": "3.9.12"
  },
  "orig_nbformat": 4,
  "vscode": {
   "interpreter": {
    "hash": "40d3a090f54c6569ab1632332b64b2c03c39dcf918b08424e98f38b5ae0af88f"
   }
  }
 },
 "nbformat": 4,
 "nbformat_minor": 2
}
